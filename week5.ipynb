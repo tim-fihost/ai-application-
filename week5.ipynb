{
  "nbformat": 4,
  "nbformat_minor": 0,
  "metadata": {
    "colab": {
      "provenance": [],
      "authorship_tag": "ABX9TyOvjaLTUVCQ8wnNKxEocxSU",
      "include_colab_link": true
    },
    "kernelspec": {
      "name": "python3",
      "display_name": "Python 3"
    },
    "language_info": {
      "name": "python"
    }
  },
  "cells": [
    {
      "cell_type": "markdown",
      "metadata": {
        "id": "view-in-github",
        "colab_type": "text"
      },
      "source": [
        "<a href=\"https://colab.research.google.com/github/tim-fihost/ai-application-/blob/week-5/week5.ipynb\" target=\"_parent\"><img src=\"https://colab.research.google.com/assets/colab-badge.svg\" alt=\"Open In Colab\"/></a>"
      ]
    },
    {
      "cell_type": "code",
      "execution_count": 2,
      "metadata": {
        "id": "MHbUpinc0HZh"
      },
      "outputs": [],
      "source": [
        "import tensorflow as tf\n",
        "import numpy as np\n",
        "import matplotlib.pyplot as plt"
      ]
    },
    {
      "cell_type": "code",
      "source": [
        "# Load the MNIST dataset\n",
        "mnist = tf.keras.datasets.mnist\n",
        "# Split the dataset into training and test sets\n",
        "(train_images, train_labels),(test_images,test_labels ) = mnist.load_data()\n",
        "# Normalize the images\n",
        "train_images = train_images / 255.0\n",
        "test_images = test_images / 255.0\n"
      ],
      "metadata": {
        "colab": {
          "base_uri": "https://localhost:8080/"
        },
        "id": "BQ2JMc8S0fex",
        "outputId": "d86713e9-9c9e-4224-a9d4-6b9b6bb93811"
      },
      "execution_count": 3,
      "outputs": [
        {
          "output_type": "stream",
          "name": "stdout",
          "text": [
            "Downloading data from https://storage.googleapis.com/tensorflow/tf-keras-datasets/mnist.npz\n",
            "11490434/11490434 [==============================] - 1s 0us/step\n"
          ]
        }
      ]
    },
    {
      "cell_type": "code",
      "source": [
        "def evaluate_activation(activation_function):\n",
        "  model = tf.keras.Sequential([\n",
        "      tf.keras.layers.Flatten(input_shape=(28,28)),\n",
        "      tf.keras.layers.Dense(128,activation=activation_function),\n",
        "      tf.keras.layers.Dense(10,activation=\"softmax\")\n",
        "  ])\n",
        "  model.compile(optimizer='adam', loss='sparse_categorical_crossentropy', metrics=['accuracy'])\n",
        "  model.fit(train_images, train_labels, epochs=5)\n",
        "  test_loss, test_acc = model.evaluate(test_images,test_labels)\n",
        "  print(f\"Test accuracy with {activation_function}: {test_acc}\")\n",
        "\n",
        "for activation in ['sigmoid','tanh','relu']:\n",
        "  evaluate_activation(activation)"
      ],
      "metadata": {
        "id": "sHZcE1-q0u16",
        "colab": {
          "base_uri": "https://localhost:8080/"
        },
        "outputId": "92d4ef92-a55b-4bb9-92a6-320c744a679e"
      },
      "execution_count": 6,
      "outputs": [
        {
          "output_type": "stream",
          "name": "stdout",
          "text": [
            "Epoch 1/5\n",
            "1875/1875 [==============================] - 8s 4ms/step - loss: 0.3969 - accuracy: 0.8957\n",
            "Epoch 2/5\n",
            "1875/1875 [==============================] - 7s 4ms/step - loss: 0.1947 - accuracy: 0.9435\n",
            "Epoch 3/5\n",
            "1875/1875 [==============================] - 8s 4ms/step - loss: 0.1427 - accuracy: 0.9584\n",
            "Epoch 4/5\n",
            "1875/1875 [==============================] - 7s 4ms/step - loss: 0.1106 - accuracy: 0.9683\n",
            "Epoch 5/5\n",
            "1875/1875 [==============================] - 8s 4ms/step - loss: 0.0886 - accuracy: 0.9744\n",
            "313/313 [==============================] - 1s 2ms/step - loss: 0.0972 - accuracy: 0.9705\n",
            "Test accuracy with sigmoid: 0.9704999923706055\n",
            "Epoch 1/5\n",
            "1875/1875 [==============================] - 8s 4ms/step - loss: 0.2824 - accuracy: 0.9184\n",
            "Epoch 2/5\n",
            "1875/1875 [==============================] - 8s 4ms/step - loss: 0.1357 - accuracy: 0.9602\n",
            "Epoch 3/5\n",
            "1875/1875 [==============================] - 7s 4ms/step - loss: 0.0919 - accuracy: 0.9726\n",
            "Epoch 4/5\n",
            "1875/1875 [==============================] - 8s 4ms/step - loss: 0.0669 - accuracy: 0.9802\n",
            "Epoch 5/5\n",
            "1875/1875 [==============================] - 7s 4ms/step - loss: 0.0509 - accuracy: 0.9849\n",
            "313/313 [==============================] - 1s 2ms/step - loss: 0.0776 - accuracy: 0.9747\n",
            "Test accuracy with tanh: 0.9746999740600586\n",
            "Epoch 1/5\n",
            "1875/1875 [==============================] - 7s 3ms/step - loss: 0.2551 - accuracy: 0.9272\n",
            "Epoch 2/5\n",
            "1875/1875 [==============================] - 8s 4ms/step - loss: 0.1098 - accuracy: 0.9677\n",
            "Epoch 3/5\n",
            "1875/1875 [==============================] - 7s 4ms/step - loss: 0.0743 - accuracy: 0.9781\n",
            "Epoch 4/5\n",
            "1875/1875 [==============================] - 7s 4ms/step - loss: 0.0563 - accuracy: 0.9829\n",
            "Epoch 5/5\n",
            "1875/1875 [==============================] - 7s 4ms/step - loss: 0.0425 - accuracy: 0.9870\n",
            "313/313 [==============================] - 1s 2ms/step - loss: 0.0796 - accuracy: 0.9769\n",
            "Test accuracy with relu: 0.9768999814987183\n"
          ]
        }
      ]
    },
    {
      "cell_type": "code",
      "source": [],
      "metadata": {
        "id": "HnyjZQFhTM_X"
      },
      "execution_count": null,
      "outputs": []
    }
  ]
}